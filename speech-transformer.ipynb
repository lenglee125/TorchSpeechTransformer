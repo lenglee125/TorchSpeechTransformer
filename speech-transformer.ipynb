{
 "cells": [
  {
   "cell_type": "code",
   "execution_count": null,
   "outputs": [],
   "source": [
    "from numpy import ndarray\n",
    "from torch import nn\n",
    "\n",
    "\n",
    "class PreCNN(nn.Module):\n",
    "    def __init__(self,d_model= 16):\n",
    "        super().__init__()\n",
    "        self.conv1 = nn.Conv2d(\n",
    "            in_channels=1,\n",
    "            out_channels=4,\n",
    "            kernel_size=(3,3),\n",
    "            stride=2\n",
    "        )\n",
    "        self.relu1 = nn.ReLU()\n",
    "        self.conv2 = nn.Conv2d(\n",
    "            in_channels=4,\n",
    "            out_channels=8,\n",
    "            kernel_size=(3,3),\n",
    "            stride=2\n",
    "        )\n",
    "        self.relu2 = nn.ReLU()\n",
    "        \n",
    "        # flatten + linger\n",
    "        self.flatten = nn.Flatten()\n",
    "        self.liner = nn.Linear(\n",
    "            in_features=1024, # 需要修改\n",
    "            out_features=d_model,\n",
    "        )\n",
    "\n",
    "    def forward(self,inputs:ndarray):\n",
    "        forward = self.conv1.forward(inputs)\n",
    "        forward = self.relu1.forward(forward)\n",
    "        forward = self.conv2.forward(forward)\n",
    "        forward = self.relu2.forward(forward)\n",
    "        forward = self.flatten.forward(forward)\n",
    "        result = self.liner.forward(forward)\n",
    "        return  result\n",
    "        \n",
    "\n",
    "class TowDimAttaition(nn.Module):\n"
   ],
   "metadata": {
    "collapsed": false
   }
  }
 ],
 "metadata": {
  "kernelspec": {
   "display_name": "Python 3",
   "language": "python",
   "name": "python3"
  },
  "language_info": {
   "codemirror_mode": {
    "name": "ipython",
    "version": 2
   },
   "file_extension": ".py",
   "mimetype": "text/x-python",
   "name": "python",
   "nbconvert_exporter": "python",
   "pygments_lexer": "ipython2",
   "version": "2.7.6"
  }
 },
 "nbformat": 4,
 "nbformat_minor": 0
}
